{
 "cells": [
  {
   "cell_type": "code",
   "execution_count": 6,
   "id": "11927bb4",
   "metadata": {},
   "outputs": [],
   "source": [
    "#=EXercise 5.2\n",
    "import time"
   ]
  },
  {
   "cell_type": "code",
   "execution_count": 9,
   "id": "a4e19ddf",
   "metadata": {},
   "outputs": [
    {
     "name": "stdout",
     "output_type": "stream",
     "text": [
      "runtime:  0.0019807815551757812\n"
     ]
    }
   ],
   "source": [
    "t0=time.time()\n",
    "vals = [i * -1 if i%2==1 else i for i in range (1,10001)]\n",
    "print(\"runtime: \", time.time()-t0)"
   ]
  }
 ],
 "metadata": {
  "kernelspec": {
   "display_name": "Python 3 (ipykernel)",
   "language": "python",
   "name": "python3"
  },
  "language_info": {
   "codemirror_mode": {
    "name": "ipython",
    "version": 3
   },
   "file_extension": ".py",
   "mimetype": "text/x-python",
   "name": "python",
   "nbconvert_exporter": "python",
   "pygments_lexer": "ipython3",
   "version": "3.11.5"
  }
 },
 "nbformat": 4,
 "nbformat_minor": 5
}
